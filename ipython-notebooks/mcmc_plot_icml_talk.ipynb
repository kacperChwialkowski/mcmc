{
 "cells": [
  {
   "cell_type": "code",
   "execution_count": 1,
   "metadata": {
    "collapsed": false
   },
   "outputs": [
    {
     "name": "stderr",
     "output_type": "stream",
     "text": [
      "/usr/local/lib/python2.7/dist-packages/matplotlib/__init__.py:872: UserWarning: axes.color_cycle is deprecated and replaced with axes.prop_cycle; please use the latter.\n",
      "  warnings.warn(self.msg_depr % (key, alt_key))\n"
     ]
    }
   ],
   "source": [
    "import matplotlib.pyplot as plt\n",
    "import seaborn as sns\n",
    "import numpy as np\n",
    "from kameleon_mcmc.distribution.Distribution import  Distribution\n",
    "from kameleon_mcmc.distribution.Gaussian import Gaussian\n",
    "from kameleon_mcmc.mcmc.MCMCChain import MCMCChain\n",
    "from kameleon_mcmc.mcmc.MCMCParams import MCMCParams\n",
    "from kameleon_mcmc.mcmc.output.PlottingOutput import PlottingOutput\n",
    "from kameleon_mcmc.mcmc.output.StatisticsOutput import StatisticsOutput\n",
    "from kameleon_mcmc.tools.Visualise import Visualise\n",
    "from kameleon_mcmc.mcmc.samplers.StandardMetropolis import StandardMetropolis\n",
    "\n",
    "%matplotlib inline"
   ]
  },
  {
   "cell_type": "code",
   "execution_count": 2,
   "metadata": {
    "collapsed": false
   },
   "outputs": [],
   "source": [
    "class Target(Distribution):\n",
    "    def __init__(self, X):\n",
    "        self.dimension = 2\n",
    "        \n",
    "        self.theta1_prior = Gaussian(np.zeros(1), np.eye(1)*10)\n",
    "        self.theta2_prior = Gaussian(np.zeros(1), np.eye(1))\n",
    "        \n",
    "        self.X = X\n",
    "        \n",
    "        \n",
    "    def log_pdf(self, thetas):\n",
    "        assert(thetas.ndim == 2)\n",
    "        assert(thetas.shape[1] == self.dimension)\n",
    "        \n",
    "        log_pdf = np.zeros(len(thetas))\n",
    "        for i,theta in enumerate(thetas):\n",
    "            theta1 = theta[0]\n",
    "            theta2 = theta[1]\n",
    "            \n",
    "            # prior\n",
    "            log_pdf[i] += self.theta1_prior.log_pdf(np.atleast_2d(theta1))\n",
    "            log_pdf[i] += self.theta2_prior.log_pdf(np.atleast_2d(theta2))\n",
    "            \n",
    "            # likelihood\n",
    "            component1 = Gaussian(np.zeros(1)+theta1, np.eye(1)*4)\n",
    "            component2 = Gaussian(np.zeros(1)+theta1+theta2, np.eye(1)*4)\n",
    "            \n",
    "            log_lik1 = component1.log_pdf(self.X)\n",
    "            log_lik2 = component2.log_pdf(self.X)\n",
    "            \n",
    "            log_pdf += np.sum(np.log(0.5*np.exp(log_lik1) + 0.5*np.exp(log_lik2)))\n",
    "\n",
    "            \n",
    "        return log_pdf\n",
    "    \n",
    "    def get_plotting_bounds(self):\n",
    "        return [(-3, 3), (-3, 3)]\n",
    "        "
   ]
  },
  {
   "cell_type": "code",
   "execution_count": 18,
   "metadata": {
    "collapsed": false
   },
   "outputs": [
    {
     "data": {
      "image/png": "[encoded data removed]",
      "text/plain": [
       "<matplotlib.figure.Figure at 0x7fef33318850>"
      ]
     },
     "metadata": {},
     "output_type": "display_data"
    }
   ],
   "source": [
    "n = 400\n",
    "X = np.random.randn(n,1)*2\n",
    "for i in range(n):\n",
    "    if np.random.rand()<0.5:\n",
    "        X[i] += 0\n",
    "    else:\n",
    "        X[i] += 0+1\n",
    "\n",
    "        \n",
    "plt.hist(X, bins=15);"
   ]
  },
  {
   "cell_type": "code",
   "execution_count": 7,
   "metadata": {
    "collapsed": false
   },
   "outputs": [
    {
     "name": "stdout",
     "output_type": "stream",
     "text": [
      "iteration: 100\n",
      "mean acceptance: 0.18\n",
      "20 percent done in  25 seconds\n",
      "Since last update: 25 seconds\n",
      "remaining (estimated): 98 seconds\n",
      "total (estimated): 123 seconds\n",
      "\n",
      "iteration: 200\n",
      "mean acceptance: 0.16\n",
      "40 percent done in  47 seconds\n",
      "Since last update: 22 seconds\n",
      "remaining (estimated): 69 seconds\n",
      "total (estimated): 116 seconds\n",
      "\n",
      "iteration: 300\n",
      "mean acceptance: 0.183333333333\n",
      "60 percent done in  67 seconds\n",
      "Since last update: 21 seconds\n",
      "remaining (estimated): 45 seconds\n",
      "total (estimated): 112 seconds\n",
      "\n",
      "iteration: 400\n",
      "mean acceptance: 0.1775\n",
      "80 percent done in  86 seconds\n",
      "Since last update: 19 seconds\n",
      "remaining (estimated): 21 seconds\n",
      "total (estimated): 107 seconds\n",
      "\n"
     ]
    }
   ],
   "source": [
    "distribution = Target(X)\n",
    "\n",
    "mcmc_sampler = StandardMetropolis(distribution, scale=8, cov=np.array([[ 0.13065329, -0.24175614],\n",
    "       [-0.24175614,  0.48168649]]))\n",
    "\n",
    "start = np.array([1,-1])\n",
    "mcmc_params = MCMCParams(start=start, num_iterations=500)\n",
    "chain = MCMCChain(mcmc_sampler, mcmc_params)\n",
    "\n",
    "chain.append_mcmc_output(StatisticsOutput(lag=100, print_from=100))\n",
    "\n",
    "chain.run()"
   ]
  },
  {
   "cell_type": "code",
   "execution_count": null,
   "metadata": {
    "collapsed": false
   },
   "outputs": [],
   "source": [
    "Xs = np.linspace(-1.5,2,30)\n",
    "Ys = np.linspace(-3.5,4,30)\n",
    "\n",
    "D = np.zeros((len(Xs), len(Ys)))\n",
    "\n",
    "# compute log-density\n",
    "for i in range(len(Xs)):\n",
    "    print i\n",
    "    for j in range(len(Ys)):\n",
    "        x = np.array([[Xs[i], Ys[j]]])\n",
    "        D[j, i] = distribution.log_pdf(x)\n",
    "\n",
    "D-=np.min(D)\n",
    "D/=np.max(D)\n",
    "D+=1\n",
    "D = np.exp(D)\n",
    "\n"
   ]
  },
  {
   "cell_type": "code",
   "execution_count": null,
   "metadata": {
    "collapsed": false
   },
   "outputs": [],
   "source": [
    "levels = plt.hist(D)[1][:-1]\n",
    "levels = np.hstack((levels, np.array([7.2,7.35])))\n",
    "plt.contour(Xs, Ys, D, origin='lower', levels=levels, linewidths=3, cmap='Reds')\n",
    "#im.set_extent([Xs.min(), Xs.max(), Ys.min(), Ys.max()])\n",
    "plt.ylim([Ys.min(), Ys.max()])\n",
    "plt.xlim([Xs.min(), Xs.max()])\n",
    "\n",
    "n_plot = 300\n",
    "start = 200\n",
    "inds = np.arange(start, start+n_plot)\n",
    "plt.plot(chain.samples[inds,0], chain.samples[inds,1], 'blue')\n",
    "plt.savefig(\"sgld_trace_and_density.pdf\")"
   ]
  },
  {
   "cell_type": "code",
   "execution_count": null,
   "metadata": {
    "collapsed": true
   },
   "outputs": [],
   "source": []
  },
  {
   "cell_type": "code",
   "execution_count": null,
   "metadata": {
    "collapsed": true
   },
   "outputs": [],
   "source": []
  },
  {
   "cell_type": "code",
   "execution_count": null,
   "metadata": {
    "collapsed": true
   },
   "outputs": [],
   "source": []
  },
  {
   "cell_type": "code",
   "execution_count": null,
   "metadata": {
    "collapsed": true
   },
   "outputs": [],
   "source": []
  }
 ],
 "metadata": {
  "kernelspec": {
   "display_name": "Python 2",
   "language": "python",
   "name": "python2"
  },
  "language_info": {
   "codemirror_mode": {
    "name": "ipython",
    "version": 2
   },
   "file_extension": ".py",
   "mimetype": "text/x-python",
   "name": "python",
   "nbconvert_exporter": "python",
   "pygments_lexer": "ipython2",
   "version": "2.7.6"
  }
 },
 "nbformat": 4,
 "nbformat_minor": 0
}
